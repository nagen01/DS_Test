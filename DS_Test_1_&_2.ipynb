{
  "nbformat": 4,
  "nbformat_minor": 0,
  "metadata": {
    "colab": {
      "name": "DS_Test_1 & 2.ipynb",
      "provenance": [],
      "collapsed_sections": []
    },
    "kernelspec": {
      "name": "python3",
      "display_name": "Python 3"
    },
    "accelerator": "GPU"
  },
  "cells": [
    {
      "cell_type": "markdown",
      "metadata": {
        "id": "FgnzF41dDGvR",
        "colab_type": "text"
      },
      "source": [
        "Q1: GIVEN AN ARRAY OF INTEGERS, WRITE A PROGRAM TO FIND THE LARGEST\n",
        "NUMBER AND THE SMALLEST NUMBER.\n",
        "Instructions:\n",
        "1. Write the program in python. Do not use sort method.\n",
        "2. Write at least three test cases for the program. "
      ]
    },
    {
      "cell_type": "code",
      "metadata": {
        "id": "g3YN2ixHDMb7",
        "colab_type": "code",
        "colab": {
          "base_uri": "https://localhost:8080/",
          "height": 119
        },
        "outputId": "4b898622-68b4-46dd-ac62-d69075842f85"
      },
      "source": [
        "def findMax(array):\n",
        "  max_value = array[0]\n",
        "  for i in range(len(array)):\n",
        "    if max_value < array[i]:\n",
        "      max_value = array[i]\n",
        "  return max_value\n",
        "\n",
        "def findMin(array):\n",
        "  min_value = array[0]\n",
        "  for i in range(len(array)):\n",
        "    if min_value > array[i]:\n",
        "      min_value = array[i]\n",
        "  return min_value\n",
        "\n",
        "#Test Cases:\n",
        "#1 : Recognize +ve and -ve numbers\n",
        "a = [2,5,7,9,-7,4,6,3,-10,1,11,12,15]\n",
        "min_value = findMin(a)\n",
        "print(min_value)\n",
        "max_value = findMax(a)\n",
        "print(max_value)\n",
        "\n",
        "#2 : Produce result even if all numbers are same\n",
        "a = [2,2,2,2,2,2,2,2,2]\n",
        "min_value = findMin(a)\n",
        "print(min_value)\n",
        "max_value = findMax(a)\n",
        "print(max_value)\n",
        "\n",
        "#3 : Handels simple calculations \n",
        "a = [2,5,7,9,4,2**10,6,3,1,11,12,15]\n",
        "min_value = findMin(a)\n",
        "print(min_value)\n",
        "max_value = findMax(a)\n",
        "print(max_value)"
      ],
      "execution_count": 1,
      "outputs": [
        {
          "output_type": "stream",
          "text": [
            "-10\n",
            "15\n",
            "2\n",
            "2\n",
            "1\n",
            "1024\n"
          ],
          "name": "stdout"
        }
      ]
    },
    {
      "cell_type": "markdown",
      "metadata": {
        "id": "qJSsjsTuF1d0",
        "colab_type": "text"
      },
      "source": [
        "Q2: GIVEN AN ARRAY OF STRINGS, FOR EVERY STRING IN THE LIST FIND ALL\n",
        "STRINGS THAT HAVE EDIT DISTANCE LESS THAN A GIVEN THRESHOLD (SAY 2).\n",
        "Instructions:\n",
        "• Write the program in python.\n",
        "• Do not use any python or third party library. "
      ]
    },
    {
      "cell_type": "code",
      "metadata": {
        "id": "-_Scm-W4KGYc",
        "colab_type": "code",
        "colab": {
          "base_uri": "https://localhost:8080/",
          "height": 71
        },
        "outputId": "77927807-593b-4c88-8593-125d416e3616"
      },
      "source": [
        "def getEditDistance(str1, str2, m, n): \n",
        "  \n",
        "    # If first string is empty: first string can be converted into second string by coppying each characters from second to first string\n",
        "    #Hence edit distance will be as below\n",
        "    if m == 0: \n",
        "         return n \n",
        "  \n",
        "    # If second string is empty: first string can be converted into second string by removing each characters from first string\n",
        "    #Hence edit distance will be as below\n",
        "    if n == 0: \n",
        "        return m \n",
        "  \n",
        "    # If last characters of both strings are same, Ignore last characters and get count for the remanining string lengths\n",
        "    if str1[m-1]== str2[n-1]: \n",
        "        return getEditDistance(str1, str2, m-1, n-1) \n",
        "  \n",
        "    # If last characters are not same, recursively compute minimum cost for all three operations (Insert/Remove/Replace) on last character\n",
        "    # of first string and take minimum of three values. \n",
        "    return 1 + findMin([getEditDistance(str1, str2, m, n-1), getEditDistance(str1, str2, m-1, n), getEditDistance(str1, str2, m-1, n-1)]) \n",
        "\n",
        "def getEditDistanceStrings(strs, ed_distance):\n",
        "  d = {}\n",
        "  for i in range(len(strs)):\n",
        "    lst = []\n",
        "    str1 = strs[i]\n",
        "    for j in range(len(strs)):\n",
        "      str2 = strs[j]\n",
        "      if i != j:\n",
        "        ed = ed = getEditDistance(str1, str2, len(str1), len(str2))\n",
        "        if ed <= ed_distance:\n",
        "          #print(ed)\n",
        "          lst.append(strs[j])\n",
        "        d[strs[i]] = lst\n",
        "  return d\n",
        "#strs = [\"sunday\", \"saturday\"]\n",
        "strs = [\"sunday\", \"saturday\", \"monday\", \"tuesday\", \"wednesday\", \"thursday\", \"friday\"]\n",
        "#strs = [\"january\", \"february\", \"march\", \"april\", \"may\", \"june\", \"july\", \"august\", \"september\", \"october\", \"november\", \"december\"]\n",
        "ed_distance = 3\n",
        "string_dict = getEditDistanceStrings(strs, ed_distance)\n",
        "print(f\"Find list of strings which have edit distance less than or equals to {ed_distance}: \")\n",
        "print(string_dict)"
      ],
      "execution_count": 6,
      "outputs": [
        {
          "output_type": "stream",
          "text": [
            "Find list of strings which have edit distance less than or equals to 3: \n",
            "{'sunday': ['saturday', 'monday', 'tuesday', 'friday'], 'saturday': ['sunday'], 'monday': ['sunday', 'friday'], 'tuesday': ['sunday', 'thursday'], 'wednesday': [], 'thursday': ['tuesday'], 'friday': ['sunday', 'monday']}\n"
          ],
          "name": "stdout"
        }
      ]
    }
  ]
}